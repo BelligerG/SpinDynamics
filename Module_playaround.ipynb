{
 "cells": [
  {
   "cell_type": "code",
   "execution_count": 1,
   "metadata": {},
   "outputs": [],
   "source": [
    "import SpinDynamics as sd\n",
    "import numpy as np\n",
    "\n",
    "import timeit"
   ]
  },
  {
   "cell_type": "code",
   "execution_count": 2,
   "metadata": {},
   "outputs": [],
   "source": [
    "mT2angfreq = 2.00231930436153*9.27400968e-24/(6.62606957e-34/2/np.pi)/1e12\n",
    "dr3 = -4*np.pi*1e-7 * (2.0023193043617 * 9.27400968e-24)**2 / (4*np.pi*1e-30)/6.62606957e-34/1e6 * 2e-3 * np.pi #rad/ns A^3"
   ]
  },
  {
   "cell_type": "code",
   "execution_count": 13,
   "metadata": {},
   "outputs": [
    {
     "data": {
      "text/plain": [
       "0.8374526872374094"
      ]
     },
     "execution_count": 13,
     "metadata": {},
     "output_type": "execute_result"
    }
   ],
   "source": [
    "#set the spins, 3e in this case\n",
    "spins = [0.5, 0.5, 0.5, 0.5]\n",
    "field = np.array([0, 0, 1])*mT2angfreq\n",
    "hyp   = np.diag([0.2, 0.2, 0.2])\n",
    "kS0 = 0.2\n",
    "beta = 1.4\n",
    "ksc = 1/100\n",
    "radius = 4.5 #set the radius of the radicals\n",
    "coordinates = [[0, 0, 0],\n",
    "              [9, 0, 0],\n",
    "              [0, 9, 0],\n",
    "              None]\n",
    "\n",
    "#create the particle objects\n",
    "sp = [sd.Particles.HighMemSpinParticle(spins, i, coordinates[i]) for i in range(len(spins))]\n",
    "\n",
    "#First 3 particles are e, last 1 is n\n",
    "Hamiltonian = sum([sd.Hamiltonian.CalculateHamiltonian.zeeman(sp[i], field) for i in range(len(spins)-1)])\n",
    "\n",
    "#Interaction between the 1st e and 1st n\n",
    "Hamiltonian += sd.Hamiltonian.CalculateHamiltonian.hyperfine(sp[0], sp[-1], hyp)\n",
    "\n",
    "#Calculates the distances between all particles, returns a named tuple - much more memory efficient than a dict\n",
    "dist = sd.CalculateDistances(sp[:-1], range(len(sp)-1))\n",
    "#Calculating the dipolar contribution between electrons\n",
    "Hamiltonian += sum([sd.Hamiltonian.CalculateHamiltonian.dipolar(sp[dip.index[0]], sp[dip.index[1]], dip.matrix) \n",
    "                    for dip in sd.CalculateDipolarMatrices(dr3, dist)])\n",
    "\n",
    "#Calculate K1 - Ps (singlet projection) is fed in i.e. CalculateK1(ks, Ps)\n",
    "K1 = sum([sd.CalculateK1(kS0*np.exp(-beta*(np.linalg.norm(d.distance) - 2*radius)), \n",
    "                         sd.SingletProjection(sp[d.index[0]], sp[d.index[1]])) for d in dist])\n",
    "\n",
    "sd.CalculateYields(Hamiltonian, K1, ksc)"
   ]
  },
  {
   "cell_type": "code",
   "execution_count": 1,
   "metadata": {},
   "outputs": [],
   "source": [
    "#Benchmark\n",
    "\n",
    "#Profile code\n",
    "#Use numba??"
   ]
  }
 ],
 "metadata": {
  "kernelspec": {
   "display_name": "Python 3",
   "language": "python",
   "name": "python3"
  },
  "language_info": {
   "codemirror_mode": {
    "name": "ipython",
    "version": 3
   },
   "file_extension": ".py",
   "mimetype": "text/x-python",
   "name": "python",
   "nbconvert_exporter": "python",
   "pygments_lexer": "ipython3",
   "version": "3.6.4"
  }
 },
 "nbformat": 4,
 "nbformat_minor": 2
}
